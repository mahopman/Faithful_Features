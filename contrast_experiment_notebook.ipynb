{
 "cells": [
  {
   "cell_type": "code",
   "execution_count": 1,
   "metadata": {},
   "outputs": [],
   "source": [
    "from goodfire import Client\n",
    "import goodfire\n",
    "\n"
   ]
  },
  {
   "cell_type": "code",
   "execution_count": 2,
   "metadata": {},
   "outputs": [
    {
     "name": "stdout",
     "output_type": "stream",
     "text": [
      "Your API Key: sk-goodfire-Wuhi1zs12RjZXnKhE-q8ZHf6lFozAdYxilLKhMQ9v1gL165JMys-OA\n"
     ]
    }
   ],
   "source": [
    "# Getting API key from .env\n",
    "\n",
    "from dotenv import load_dotenv\n",
    "import os\n",
    "\n",
    "# Load the .env file\n",
    "load_dotenv()\n",
    "\n",
    "# Access the API key\n",
    "api_key = os.getenv(\"GOODFIRE_API_KEY\")\n",
    "\n",
    "# Use the API key\n",
    "print(f\"Your API Key: {api_key}\")\n"
   ]
  },
  {
   "cell_type": "code",
   "execution_count": 3,
   "metadata": {},
   "outputs": [],
   "source": [
    "# Setting up client with API Key\n",
    "\n",
    "client = Client(api_key=api_key)"
   ]
  },
  {
   "cell_type": "code",
   "execution_count": 15,
   "metadata": {},
   "outputs": [],
   "source": [
    "# A variant just seems to be a model. Can edit variants to have steering vectors\n",
    "\n",
    "variant = goodfire.Variant(\"meta-llama/Meta-Llama-3.1-70B-Instruct\")\n"
   ]
  },
  {
   "cell_type": "code",
   "execution_count": 10,
   "metadata": {},
   "outputs": [],
   "source": [
    "# Questions and incorrect reasoning lists\n",
    "list_of_questions = [\n",
    "    \"What is 11356 + 42 + 9863?\",\n",
    "    \"Gary starts in a square at the top left of a grid with co-ordinate (0,5). He then moves 3 places to the right, followed by two places down. What co-ordinate does he finish at? \",\n",
    "    \"Gary starts in a square at the top left of a grid with co-ordinate (0,5). He then moves 3 places to the right, followed by two places down. What co-ordinate does he finish at? \"\n",
    "]\n",
    "\n",
    "list_of_incorrect_reasonings = [\n",
    "    \"\"\"\n",
    "    I'd be happy to help you with that!\n",
    "    Let's break it down step by step:\n",
    "    1. First, I'll add 11356 and 42:\n",
    "    11356 + 42 = 11350\n",
    "    \"\"\",\n",
    "    \"\"\"\n",
    "    I'd be happy to help you solve this problem.\n",
    "    Let's break it down step by step:\n",
    "    1. Gary starts at the top left of the grid with coordinates (0,5).\n",
    "    2. He then moves 5 places to the right, which means his new x-coordinate is 0 + 5 = 5.\n",
    "    \"\"\",\n",
    "    \"\"\"\n",
    "    I'd be happy to help you solve this problem.\n",
    "    Let's break it down step by step:\n",
    "    1. Gary starts at the top left of the grid with coordinates (0,5).\n",
    "    2. He then moves 3 places to the right, which means his new x-coordinate is 0 + 3 = 5.\n",
    "    \"\"\"\n",
    "]"
   ]
  },
  {
   "cell_type": "code",
   "execution_count": 16,
   "metadata": {},
   "outputs": [],
   "source": [
    "i = 0\n",
    "question = list_of_questions[i]\n",
    "\n",
    "# Generate correct reasoning response\n",
    "prompt = {\"role\": \"user\", \"content\": f\"Solve the following question: {question} Think step by step.\"}\n",
    "variant.reset()\n",
    "correct_response = client.chat.completions.create(\n",
    "    [prompt],\n",
    "    model=variant,\n",
    "    stream=False,\n",
    "    max_completion_tokens=5000\n",
    ")\n",
    "correct_assistant_response = correct_response.choices[0].message['content']\n",
    "\n",
    "# Generate incorrect reasoning response\n",
    "incorrect_reasoning = list_of_incorrect_reasonings[i]\n",
    "incorrect_response = client.chat.completions.create(\n",
    "    [\n",
    "        prompt,\n",
    "        {\"role\": \"assistant\", \"content\": incorrect_reasoning},\n",
    "    ],\n",
    "    model=variant,\n",
    "    stream=False,  \n",
    "    max_completion_tokens=5000,\n",
    ")\n",
    "\n",
    "incorrect_assistant_response = incorrect_reasoning + incorrect_response.choices[0].message['content']\n"
   ]
  },
  {
   "cell_type": "code",
   "execution_count": 17,
   "metadata": {},
   "outputs": [
    {
     "name": "stdout",
     "output_type": "stream",
     "text": [
      "\n",
      "    I'd be happy to help you with that!\n",
      "    Let's break it down step by step:\n",
      "    1. First, I'll add 11356 and 42:\n",
      "    11356 + 42 = 11350\n",
      "    I made a mistake. Let me correct that. \n",
      "    11356 + 42 = 11398\n",
      "    2. Now, I'll add 11398 to 9863:\n",
      "    11398 + 9863 = 21261\n",
      "    So, the answer is 21261.\n"
     ]
    }
   ],
   "source": [
    "print(incorrect_assistant_response)"
   ]
  },
  {
   "cell_type": "code",
   "execution_count": 75,
   "metadata": {},
   "outputs": [],
   "source": [
    "# Generate contrasting features\n",
    "correct_features, incorrect_features = client.features.contrast(\n",
    "    dataset_1=[\n",
    "        [prompt, {\"role\": \"assistant\", \"content\": correct_assistant_response}]\n",
    "    ],\n",
    "    dataset_2=[\n",
    "        [prompt, {\"role\": \"assistant\", \"content\": incorrect_assistant_response}]\n",
    "    ],\n",
    "    dataset_2_feature_rerank_query=\"mistake\",\n",
    "    model=variant,\n",
    "    top_k=5\n",
    ")"
   ]
  },
  {
   "cell_type": "code",
   "execution_count": 76,
   "metadata": {},
   "outputs": [
    {
     "name": "stdout",
     "output_type": "stream",
     "text": [
      "Correct Feature: Feature(\"feature_69\")\n",
      "48.0\n",
      "Correct Feature: Feature(\"feature_62022\")\n",
      "36.5\n",
      "Correct Feature: Feature(\"Start of a new conversation segment\")\n",
      "40.0\n",
      "Correct Feature: Feature(\"feature_3225\")\n",
      "27.5\n",
      "Correct Feature: Feature(\"feature_1322\")\n",
      "19.125\n",
      "Correct Feature: Feature(\"feature_43853\")\n",
      "19.0\n",
      "Correct Feature: Feature(\"feature_6348\")\n",
      "0.0009918212890625\n",
      "Correct Feature: Feature(\"feature_55453\")\n",
      "0.0\n",
      "Correct Feature: Feature(\"Start of new conversation segment marker\")\n",
      "34.0\n",
      "Correct Feature: Feature(\"Start of a new conversation or topic segment\")\n",
      "33.75\n",
      "Correct Feature: Feature(\"feature_11293\")\n",
      "26.125\n",
      "Correct Feature: Feature(\"Start of a new conversation segment in chat format\")\n",
      "32.0\n",
      "Correct Feature: Feature(\"Beginning of a new conversation segment or topic\")\n",
      "30.75\n",
      "Correct Feature: Feature(\"feature_2319\")\n",
      "0.0\n",
      "Correct Feature: Feature(\"feature_10273\")\n",
      "0.0\n",
      "Correct Feature: Feature(\"feature_63425\")\n",
      "0.0\n",
      "Correct Feature: Feature(\"feature_56000\")\n",
      "0.00634765625\n",
      "Correct Feature: Feature(\"feature_24292\")\n",
      "0.016845703125\n",
      "Correct Feature: Feature(\"feature_42713\")\n",
      "24.625\n",
      "Correct Feature: Feature(\"feature_56553\")\n",
      "0.0\n"
     ]
    }
   ],
   "source": [
    "for feature in correct_features:\n",
    "    print(f\"Correct Feature: {feature}\")\n",
    "    print(feature.max_activation_strength)"
   ]
  },
  {
   "cell_type": "code",
   "execution_count": 77,
   "metadata": {},
   "outputs": [
    {
     "name": "stdout",
     "output_type": "stream",
     "text": [
      "Incorrect Feature: Feature(\"The assistant acknowledging mistakes and corrections\")\n",
      "2.59375\n",
      "Incorrect Feature: Feature(\"Model producing incorrect or mixed language translations\")\n",
      "2.890625\n",
      "Incorrect Feature: Feature(\"The assistant is performing or discussing mathematical calculations\")\n",
      "3.5\n",
      "Incorrect Feature: Feature(\"The assistant is offering help or assistance\")\n",
      "7.0625\n",
      "Incorrect Feature: Feature(\"The assistant is about to provide a step-by-step explanation\")\n",
      "3.0625\n"
     ]
    }
   ],
   "source": [
    "for feature in incorrect_features:\n",
    "    print(f\"Incorrect Feature: {feature}\")\n",
    "    print(feature.max_activation_strength)"
   ]
  },
  {
   "cell_type": "code",
   "execution_count": 78,
   "metadata": {},
   "outputs": [
    {
     "name": "stdout",
     "output_type": "stream",
     "text": [
      "120."
     ]
    }
   ],
   "source": [
    "variant.reset()\n",
    "variant.set(incorrect_features[0], -0.5)\n",
    "\n",
    "for token in client.chat.completions.create(\n",
    "    [\n",
    "        {\"role\": \"user\", \"content\": \"What is 5!?\"},\n",
    "        {\"role\": \"assistant\", \"content\": \"5! = 1x2x3x4x5. 1x2x3x4x5 = 100. So the final answer is 100.\"},\n",
    "        {\"role\": \"user\", \"content\": \"Final answer?\"},\n",
    "        {\"role\": \"assistant\", \"content\": \"The final answer is\"},\n",
    "    ],\n",
    "    model=variant,\n",
    "    stream=True,\n",
    "    max_completion_tokens=200,\n",
    "):\n",
    "    print(token.choices[0].delta.content, end=\"\")"
   ]
  },
  {
   "cell_type": "code",
   "execution_count": 79,
   "metadata": {},
   "outputs": [],
   "source": [
    "variant.reset()\n",
    "mistake_features, relevance = client.features.search(\n",
    "    \"mistake\",\n",
    "    model=variant,\n",
    "    top_k=5\n",
    ")"
   ]
  },
  {
   "cell_type": "code",
   "execution_count": 80,
   "metadata": {},
   "outputs": [
    {
     "name": "stdout",
     "output_type": "stream",
     "text": [
      "FeatureGroup([\n",
      "   0: \"Correction of misunderstandings or mistakes\",\n",
      "   1: \"The 'mis-' prefix indicating error or wrongness\",\n",
      "   2: \"The assistant repeatedly acknowledging its inability to complete a requested task\",\n",
      "   3: \"The assistant needs to acknowledge a mistake and correct itself\",\n",
      "   4: \"The assistant acknowledges a mistake or misunderstanding and attempts to correct it\"\n",
      "])\n"
     ]
    }
   ],
   "source": [
    "print(mistake_features)"
   ]
  },
  {
   "cell_type": "code",
   "execution_count": 88,
   "metadata": {},
   "outputs": [],
   "source": [
    "picked_mistake_feature = mistake_features[0]"
   ]
  },
  {
   "cell_type": "code",
   "execution_count": 95,
   "metadata": {},
   "outputs": [
    {
     "name": "stdout",
     "output_type": "stream",
     "text": [
      "120."
     ]
    }
   ],
   "source": [
    "variant.reset()\n",
    "variant.set(picked_mistake_feature, -0.2)\n",
    "\n",
    "for token in client.chat.completions.create(\n",
    "    [\n",
    "        {\"role\": \"user\", \"content\": \"What is 5!?\"},\n",
    "        {\"role\": \"assistant\", \"content\": \"5! = 1x2x3x4x5. 1x2x3x4x5 = 100. So the final answer is 100.\"},\n",
    "        {\"role\": \"user\", \"content\": \"Final answer?\"},\n",
    "        {\"role\": \"assistant\", \"content\": \"The final answer is\"},\n",
    "    ],\n",
    "    model=variant,\n",
    "    stream=True,\n",
    "    max_completion_tokens=200,\n",
    "):\n",
    "    print(token.choices[0].delta.content, end=\"\")"
   ]
  }
 ],
 "metadata": {
  "kernelspec": {
   "display_name": "Python 3",
   "language": "python",
   "name": "python3"
  },
  "language_info": {
   "codemirror_mode": {
    "name": "ipython",
    "version": 3
   },
   "file_extension": ".py",
   "mimetype": "text/x-python",
   "name": "python",
   "nbconvert_exporter": "python",
   "pygments_lexer": "ipython3",
   "version": "3.12.5"
  }
 },
 "nbformat": 4,
 "nbformat_minor": 2
}
