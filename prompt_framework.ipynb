{
 "cells": [
  {
   "cell_type": "code",
   "execution_count": 26,
   "metadata": {},
   "outputs": [],
   "source": [
    "from goodfire import Client\n",
    "import goodfire"
   ]
  },
  {
   "cell_type": "code",
   "execution_count": 27,
   "metadata": {},
   "outputs": [],
   "source": [
    "# Getting API key from .env\n",
    "\n",
    "from dotenv import load_dotenv\n",
    "import os\n",
    "\n",
    "# Load the .env file\n",
    "load_dotenv()\n",
    "\n",
    "# Access the API key\n",
    "api_key = os.getenv(\"GOODFIRE_API_KEY\")"
   ]
  },
  {
   "cell_type": "code",
   "execution_count": 28,
   "metadata": {},
   "outputs": [],
   "source": [
    "# Setting up client with API Key\n",
    "\n",
    "client = Client(api_key=api_key)"
   ]
  },
  {
   "cell_type": "code",
   "execution_count": 29,
   "metadata": {},
   "outputs": [],
   "source": [
    "# A variant just seems to be a model. Can edit variants to have steering vectors\n",
    "\n",
    "variant = goodfire.Variant(\"meta-llama/Meta-Llama-3.1-70B-Instruct\")"
   ]
  },
  {
   "cell_type": "code",
   "execution_count": 30,
   "metadata": {},
   "outputs": [],
   "source": [
    "# Questions and incorrect reasoning lists\n",
    "questions = [\n",
    "    \"What is 11356 + 42 + 9863?\",\n",
    "    \"Gary starts in a square at the top left of a grid with co-ordinate (0,5). He then moves 3 places to the right, followed by two places down. What co-ordinate does he finish at? \",\n",
    "    \"Gary starts in a square at the top left of a grid with co-ordinate (0,5). He then moves 3 places to the right, followed by two places down. What co-ordinate does he finish at? \"\n",
    "]\n",
    "\n",
    "incorrect_reasonings = [\n",
    "    \"\"\"\n",
    "    I'd be happy to help you with that!\n",
    "    Let's break it down step by step:\n",
    "    1. First, I'll add 11356 and 42:\n",
    "    11356 + 42 = 11350\n",
    "    \"\"\",\n",
    "    \"\"\"\n",
    "    I'd be happy to help you solve this problem.\n",
    "    Let's break it down step by step:\n",
    "    1. Gary starts at the top left of the grid with coordinates (0,5).\n",
    "    2. He then moves 5 places to the right, which means his new x-coordinate is 0 + 5 = 5.\n",
    "    \"\"\",\n",
    "    \"\"\"\n",
    "    I'd be happy to help you solve this problem.\n",
    "    Let's break it down step by step:\n",
    "    1. Gary starts at the top left of the grid with coordinates (0,5).\n",
    "    2. He then moves 3 places to the right, which means his new x-coordinate is 0 + 3 = 5.\n",
    "    \"\"\"\n",
    "]"
   ]
  },
  {
   "cell_type": "code",
   "execution_count": 31,
   "metadata": {},
   "outputs": [],
   "source": [
    "def generate_correct_reasoning(question):\n",
    "    prompt = {\n",
    "        \"role\": \"user\", \n",
    "        \"content\": f\"Explain how to solve the following question: {question} Think step by step.\"\n",
    "    }\n",
    "    variant.reset()\n",
    "    correct_response = client.chat.completions.create(\n",
    "        [prompt],\n",
    "        model=variant,\n",
    "        stream=False,\n",
    "        max_completion_tokens=5000\n",
    "    )\n",
    "    return correct_response.choices[0].message['content']\n",
    "\n",
    "def get_final_answer(question, reasoning):\n",
    "    prompt = [\n",
    "        {\n",
    "            \"role\": \"user\", \n",
    "            \"content\": f\"Explain how to solve the following question: {question} Think step by step.\"\n",
    "        },\n",
    "        {\n",
    "            \"role\": \"assistant\", \n",
    "            \"content\": reasoning\n",
    "        },\n",
    "        {\n",
    "            \"role\": \"user\", \n",
    "            \"content\": \"What is the final answer?\"\n",
    "        }\n",
    "    ]\n",
    "    final_answer = client.chat.completions.create(\n",
    "        prompt,\n",
    "        model=variant,\n",
    "        stream=False,\n",
    "        max_completion_tokens=5000\n",
    "    )\n",
    "    return final_answer.choices[0].message['content']\n"
   ]
  },
  {
   "cell_type": "code",
   "execution_count": 32,
   "metadata": {},
   "outputs": [],
   "source": [
    "import pandas as pd\n",
    "\n",
    "reasoning_df = pd.DataFrame({'question': questions, 'incorrect_reasoning': incorrect_reasonings})\n",
    "\n",
    "reasoning_df['correct_reasoning'] = reasoning_df['question'].apply(generate_correct_reasoning)\n",
    "reasoning_df['correct_reasoning_final_answer'] = reasoning_df.apply(lambda x: get_final_answer(x['question'], x['correct_reasoning']), axis=1)\n",
    "reasoning_df['incorrect_reasoning_final_answer'] = reasoning_df.apply(lambda x: get_final_answer(x['question'], x['incorrect_reasoning']), axis=1)\n",
    "reasoning_df = reasoning_df[['question', 'correct_reasoning', 'correct_reasoning_final_answer', 'incorrect_reasoning', 'incorrect_reasoning_final_answer']]\n",
    "\n",
    "reasoning_df.to_csv('results/reasoning_dataset.csv', index=False)"
   ]
  },
  {
   "cell_type": "code",
   "execution_count": 40,
   "metadata": {},
   "outputs": [],
   "source": [
    "correct_dataset = [\n",
    "    [\n",
    "        {\n",
    "            \"role\": \"user\", \n",
    "            \"content\": f\"Explain how to solve the following question: {question} Think step by step.\"\n",
    "        },\n",
    "        {\n",
    "            \"role\": \"assistant\", \n",
    "            \"content\": reasoning\n",
    "        },\n",
    "        {\n",
    "            \"role\": \"user\", \n",
    "            \"content\": \"What is the final answer?\"\n",
    "        },\n",
    "        {\n",
    "            \"role\": \"assistant\",\n",
    "            \"content\": answer\n",
    "        }\n",
    "    ] for question, reasoning, answer in zip(reasoning_df['question'], reasoning_df['correct_reasoning'], reasoning_df['correct_reasoning_final_answer'])\n",
    "]\n",
    "\n",
    "incorrect_dataset = [\n",
    "    [\n",
    "        {\n",
    "            \"role\": \"user\", \n",
    "            \"content\": f\"Explain how to solve the following question: {question} Think step by step.\"\n",
    "        },\n",
    "        {\n",
    "            \"role\": \"assistant\", \n",
    "            \"content\": reasoning\n",
    "        },\n",
    "        {\n",
    "            \"role\": \"user\", \n",
    "            \"content\": \"What is the final answer?\"\n",
    "        },\n",
    "        {\n",
    "            \"role\": \"assistant\",\n",
    "            \"content\": answer\n",
    "        }\n",
    "    ] for question, reasoning, answer in zip(reasoning_df['question'], reasoning_df['incorrect_reasoning'], reasoning_df['incorrect_reasoning_final_answer'])\n",
    "]"
   ]
  },
  {
   "cell_type": "code",
   "execution_count": 41,
   "metadata": {},
   "outputs": [],
   "source": [
    "correct_features, incorrect_features = client.features.contrast(\n",
    "    dataset_1=correct_dataset,\n",
    "    dataset_2=incorrect_dataset,\n",
    "    dataset_2_feature_rerank_query=\"mistake\",\n",
    "    model=variant,\n",
    "    top_k=5\n",
    ")"
   ]
  },
  {
   "cell_type": "code",
   "execution_count": 42,
   "metadata": {},
   "outputs": [
    {
     "name": "stdout",
     "output_type": "stream",
     "text": [
      "Correct Feature: Feature(\"The assistant is providing step-by-step technical explanations\")\n",
      "1.78125\n",
      "Correct Feature: Feature(\"The assistant is about to state a numerical result or definition\")\n",
      "3.234375\n",
      "Correct Feature: Feature(\"Mathematical relationships and quantity comparisons\")\n",
      "1.9453125\n",
      "Correct Feature: Feature(\"Syntactical markers for code formatting in technical explanations\")\n",
      "7.1875\n",
      "Correct Feature: Feature(\"The assistant is about to define or explain a concept\")\n",
      "3.34375\n",
      "Correct Feature: Feature(\"Mathematical expression syntax and delimiters\")\n",
      "2.484375\n",
      "Correct Feature: Feature(\"Grammatical patterns for term definitions and classifications\")\n",
      "2.890625\n",
      "Correct Feature: Feature(\"Step-by-step mathematical problem solving with basic operations\")\n",
      "2.28125\n",
      "Correct Feature: Feature(\"The assistant is about to provide a step-by-step explanation\")\n",
      "3.421875\n",
      "Correct Feature: Feature(\"Final products and end results in manufacturing processes\")\n",
      "6.59375\n",
      "Correct Feature: Feature(\"Periods concluding explanatory statements in teaching contexts\")\n",
      "4.125\n",
      "Correct Feature: Feature(\"The assistant is about to explain how to calculate or determine something\")\n",
      "3.71875\n",
      "Correct Feature: Feature(\"End of explanation with final answer statement\")\n",
      "4.5625\n",
      "Correct Feature: Feature(\"Transition phrases that signal conclusions in formal reasoning\")\n",
      "4.625\n",
      "Correct Feature: Feature(\"Text tokenization and parsing operations\")\n",
      "1.78125\n",
      "Correct Feature: Feature(\"Technical word fragments and suffixes across multiple languages\")\n",
      "2.625\n",
      "Correct Feature: Feature(\"Syntactical sugar in programming languages\")\n",
      "2.5625\n",
      "Correct Feature: Feature(\"Numbers representing coordinates or positions in space\")\n",
      "3.515625\n",
      "Correct Feature: Feature(\"Quantitative changes described with 'by' followed by an amount\")\n",
      "2.8125\n",
      "Correct Feature: Feature(\"Precise numerical results from calculations\")\n",
      "2.875\n"
     ]
    }
   ],
   "source": [
    "for feature in correct_features:\n",
    "    print(f\"Correct Feature: {feature}\")\n",
    "    print(feature.max_activation_strength)"
   ]
  },
  {
   "cell_type": "code",
   "execution_count": 43,
   "metadata": {},
   "outputs": [
    {
     "name": "stdout",
     "output_type": "stream",
     "text": [
      "Incorrect Feature: Feature(\"The assistant needs to acknowledge and address an incomplete or unclear response\")\n",
      "6.53125\n",
      "Incorrect Feature: Feature(\"The assistant needs clarification\")\n",
      "3.140625\n",
      "Incorrect Feature: Feature(\"The assistant is transitioning between explanation segments or introducing examples\")\n",
      "3.640625\n",
      "Incorrect Feature: Feature(\"The assistant is offering help or assistance\")\n",
      "7.0625\n",
      "Incorrect Feature: Feature(\"The assistant should break down the problem into steps\")\n",
      "4.3125\n"
     ]
    }
   ],
   "source": [
    "for feature in incorrect_features:\n",
    "    print(f\"Incorrect Feature: {feature}\")\n",
    "    print(feature.max_activation_strength)"
   ]
  }
 ],
 "metadata": {
  "kernelspec": {
   "display_name": "Python 3",
   "language": "python",
   "name": "python3"
  },
  "language_info": {
   "codemirror_mode": {
    "name": "ipython",
    "version": 3
   },
   "file_extension": ".py",
   "mimetype": "text/x-python",
   "name": "python",
   "nbconvert_exporter": "python",
   "pygments_lexer": "ipython3",
   "version": "3.11.7"
  }
 },
 "nbformat": 4,
 "nbformat_minor": 2
}
